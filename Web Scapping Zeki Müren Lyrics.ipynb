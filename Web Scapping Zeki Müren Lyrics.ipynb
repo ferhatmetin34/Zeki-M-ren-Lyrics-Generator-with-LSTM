{
 "cells": [
  {
   "cell_type": "code",
   "execution_count": 376,
   "metadata": {
    "ExecuteTime": {
     "end_time": "2020-06-19T15:16:35.666018Z",
     "start_time": "2020-06-19T15:16:35.663025Z"
    }
   },
   "outputs": [],
   "source": [
    "#!pip install beautifulsoup4\n",
    "#!pip install lxml\n",
    "#!pip install requests\n"
   ]
  },
  {
   "cell_type": "code",
   "execution_count": 1,
   "metadata": {
    "ExecuteTime": {
     "end_time": "2020-07-11T09:20:41.504699Z",
     "start_time": "2020-07-11T09:20:39.907017Z"
    }
   },
   "outputs": [],
   "source": [
    "from bs4 import BeautifulSoup\n",
    "import requests\n",
    "import pandas as pd\n",
    "import numpy as np\n",
    "import matplotlib.pyplot as plt\n",
    "import seaborn as sns\n",
    "from os import path\n",
    "from PIL import Image\n",
    "from wordcloud import WordCloud, STOPWORDS, ImageColorGenerator"
   ]
  },
  {
   "cell_type": "code",
   "execution_count": 2,
   "metadata": {
    "ExecuteTime": {
     "end_time": "2020-07-11T09:20:42.678613Z",
     "start_time": "2020-07-11T09:20:42.235485Z"
    }
   },
   "outputs": [],
   "source": [
    "r=requests.get(\"https://sarki.alternatifim.com/sarkici/zeki-muren/ah-bu-sarkilarin-gozu-kor-olsun\")"
   ]
  },
  {
   "cell_type": "code",
   "execution_count": 5,
   "metadata": {
    "ExecuteTime": {
     "end_time": "2020-07-11T09:27:11.616685Z",
     "start_time": "2020-07-11T09:27:11.611674Z"
    }
   },
   "outputs": [
    {
     "data": {
      "text/plain": [
       "200"
      ]
     },
     "execution_count": 5,
     "metadata": {},
     "output_type": "execute_result"
    }
   ],
   "source": [
    "r.status_code #200 alıyorsak tüm verileri alabiliyoruz."
   ]
  },
  {
   "cell_type": "code",
   "execution_count": 4,
   "metadata": {
    "ExecuteTime": {
     "end_time": "2020-06-20T12:38:17.141057Z",
     "start_time": "2020-06-20T12:38:12.988948Z"
    }
   },
   "outputs": [],
   "source": [
    "pages = [1,2,3,4,5,6,7,8,9,10,11]\n",
    "\n",
    "links = []\n",
    "\n",
    "for page in pages:\n",
    "    url = 'https://sarki.alternatifim.com/sarkici/zeki-muren/sayfa-{page}'.format(page=page)\n",
    "    root_url = 'https://sarki.alternatifim.com/'\n",
    "\n",
    "    response = requests.get(url)\n",
    "    data = response.text\n",
    "\n",
    "    soup = BeautifulSoup(data, 'html.parser')\n",
    "\n",
    "    for link in soup.findAll('a'):\n",
    "              if link.get('href').startswith('/sarkici/'):\n",
    "                    links.append(root_url + str(link.get('href')))\n"
   ]
  },
  {
   "cell_type": "code",
   "execution_count": 5,
   "metadata": {
    "ExecuteTime": {
     "end_time": "2020-06-20T12:38:17.148730Z",
     "start_time": "2020-06-20T12:38:17.142711Z"
    }
   },
   "outputs": [
    {
     "name": "stdout",
     "output_type": "stream",
     "text": [
      "Number of songs: 519\n"
     ]
    }
   ],
   "source": [
    "\n",
    "print(\"Number of songs: {n}\".format(n=len(links)))"
   ]
  },
  {
   "cell_type": "code",
   "execution_count": 6,
   "metadata": {
    "ExecuteTime": {
     "end_time": "2020-06-20T12:38:17.169640Z",
     "start_time": "2020-06-20T12:38:17.150698Z"
    }
   },
   "outputs": [],
   "source": [
    "names=pd.DataFrame([i.split('https://sarki.alternatifim.com//sarkici/zeki-muren/') for i in links],columns=[\"index\",\"name\"])"
   ]
  },
  {
   "cell_type": "code",
   "execution_count": 7,
   "metadata": {
    "ExecuteTime": {
     "end_time": "2020-06-20T12:38:17.190618Z",
     "start_time": "2020-06-20T12:38:17.172647Z"
    },
    "scrolled": true
   },
   "outputs": [
    {
     "data": {
      "text/html": [
       "<div>\n",
       "<style scoped>\n",
       "    .dataframe tbody tr th:only-of-type {\n",
       "        vertical-align: middle;\n",
       "    }\n",
       "\n",
       "    .dataframe tbody tr th {\n",
       "        vertical-align: top;\n",
       "    }\n",
       "\n",
       "    .dataframe thead th {\n",
       "        text-align: right;\n",
       "    }\n",
       "</style>\n",
       "<table border=\"1\" class=\"dataframe\">\n",
       "  <thead>\n",
       "    <tr style=\"text-align: right;\">\n",
       "      <th></th>\n",
       "      <th>index</th>\n",
       "      <th>name</th>\n",
       "    </tr>\n",
       "  </thead>\n",
       "  <tbody>\n",
       "    <tr>\n",
       "      <td>0</td>\n",
       "      <td></td>\n",
       "      <td>a-fadimem</td>\n",
       "    </tr>\n",
       "    <tr>\n",
       "      <td>1</td>\n",
       "      <td></td>\n",
       "      <td>acaba</td>\n",
       "    </tr>\n",
       "    <tr>\n",
       "      <td>2</td>\n",
       "      <td></td>\n",
       "      <td>acemkurdi-pesrev</td>\n",
       "    </tr>\n",
       "    <tr>\n",
       "      <td>3</td>\n",
       "      <td></td>\n",
       "      <td>acilara-gucendim</td>\n",
       "    </tr>\n",
       "    <tr>\n",
       "      <td>4</td>\n",
       "      <td></td>\n",
       "      <td>acik-birak-pencereni</td>\n",
       "    </tr>\n",
       "  </tbody>\n",
       "</table>\n",
       "</div>"
      ],
      "text/plain": [
       "  index                  name\n",
       "0                   a-fadimem\n",
       "1                       acaba\n",
       "2            acemkurdi-pesrev\n",
       "3            acilara-gucendim\n",
       "4        acik-birak-pencereni"
      ]
     },
     "execution_count": 7,
     "metadata": {},
     "output_type": "execute_result"
    }
   ],
   "source": [
    "names.head()"
   ]
  },
  {
   "cell_type": "code",
   "execution_count": 8,
   "metadata": {
    "ExecuteTime": {
     "end_time": "2020-06-20T12:40:54.039775Z",
     "start_time": "2020-06-20T12:38:17.194572Z"
    }
   },
   "outputs": [],
   "source": [
    "lyrics=[]\n",
    "\n",
    "for lyrics_url in links:\n",
    "        data = requests.get(lyrics_url).text\n",
    "        soup = BeautifulSoup(data, 'html.parser')\n",
    "\n",
    "        paragraph = soup.find('div', attrs={\"class\":\"sarkisozu\"}).text.split(\"\\n\")\n",
    "        line=pd.DataFrame(paragraph).iloc[1,0].split(\"\\r\")\n",
    "        lyrics.append(line)"
   ]
  },
  {
   "cell_type": "code",
   "execution_count": 9,
   "metadata": {
    "ExecuteTime": {
     "end_time": "2020-06-20T12:40:54.046759Z",
     "start_time": "2020-06-20T12:40:54.041772Z"
    },
    "scrolled": false
   },
   "outputs": [],
   "source": [
    "lyric=pd.DataFrame(pd.Series(lyrics).values.reshape(-1,1),columns=[\"lyric\"])"
   ]
  },
  {
   "cell_type": "code",
   "execution_count": 10,
   "metadata": {
    "ExecuteTime": {
     "end_time": "2020-06-20T12:40:54.069642Z",
     "start_time": "2020-06-20T12:40:54.047757Z"
    }
   },
   "outputs": [
    {
     "data": {
      "text/html": [
       "<div>\n",
       "<style scoped>\n",
       "    .dataframe tbody tr th:only-of-type {\n",
       "        vertical-align: middle;\n",
       "    }\n",
       "\n",
       "    .dataframe tbody tr th {\n",
       "        vertical-align: top;\n",
       "    }\n",
       "\n",
       "    .dataframe thead th {\n",
       "        text-align: right;\n",
       "    }\n",
       "</style>\n",
       "<table border=\"1\" class=\"dataframe\">\n",
       "  <thead>\n",
       "    <tr style=\"text-align: right;\">\n",
       "      <th></th>\n",
       "      <th>lyric</th>\n",
       "    </tr>\n",
       "  </thead>\n",
       "  <tbody>\n",
       "    <tr>\n",
       "      <td>0</td>\n",
       "      <td>[A Fadimem hadi senle kaçalım, Beyce de pazarı...</td>\n",
       "    </tr>\n",
       "    <tr>\n",
       "      <td>1</td>\n",
       "      <td>[Bilmem ki unuttun mu , Dudakların adımı , Göz...</td>\n",
       "    </tr>\n",
       "    <tr>\n",
       "      <td>2</td>\n",
       "      <td>[Şarkı enstrümantal olduğu için şarkı sözü bul...</td>\n",
       "    </tr>\n",
       "    <tr>\n",
       "      <td>3</td>\n",
       "      <td>[Bana derdi çektiren, Göz yaşlarımı döktüren, ...</td>\n",
       "    </tr>\n",
       "    <tr>\n",
       "      <td>4</td>\n",
       "      <td>[Açık bırak pencereni, Örtme perdeyi bu gece, ...</td>\n",
       "    </tr>\n",
       "  </tbody>\n",
       "</table>\n",
       "</div>"
      ],
      "text/plain": [
       "                                               lyric\n",
       "0  [A Fadimem hadi senle kaçalım, Beyce de pazarı...\n",
       "1  [Bilmem ki unuttun mu , Dudakların adımı , Göz...\n",
       "2  [Şarkı enstrümantal olduğu için şarkı sözü bul...\n",
       "3  [Bana derdi çektiren, Göz yaşlarımı döktüren, ...\n",
       "4  [Açık bırak pencereni, Örtme perdeyi bu gece, ..."
      ]
     },
     "execution_count": 10,
     "metadata": {},
     "output_type": "execute_result"
    }
   ],
   "source": [
    "lyric.head()"
   ]
  },
  {
   "cell_type": "code",
   "execution_count": 11,
   "metadata": {
    "ExecuteTime": {
     "end_time": "2020-06-20T12:40:54.080602Z",
     "start_time": "2020-06-20T12:40:54.071626Z"
    }
   },
   "outputs": [],
   "source": [
    "data=pd.concat([names,lyric],axis=1)"
   ]
  },
  {
   "cell_type": "code",
   "execution_count": 12,
   "metadata": {
    "ExecuteTime": {
     "end_time": "2020-06-20T12:40:54.098564Z",
     "start_time": "2020-06-20T12:40:54.084590Z"
    },
    "scrolled": true
   },
   "outputs": [
    {
     "data": {
      "text/html": [
       "<div>\n",
       "<style scoped>\n",
       "    .dataframe tbody tr th:only-of-type {\n",
       "        vertical-align: middle;\n",
       "    }\n",
       "\n",
       "    .dataframe tbody tr th {\n",
       "        vertical-align: top;\n",
       "    }\n",
       "\n",
       "    .dataframe thead th {\n",
       "        text-align: right;\n",
       "    }\n",
       "</style>\n",
       "<table border=\"1\" class=\"dataframe\">\n",
       "  <thead>\n",
       "    <tr style=\"text-align: right;\">\n",
       "      <th></th>\n",
       "      <th>index</th>\n",
       "      <th>name</th>\n",
       "      <th>lyric</th>\n",
       "    </tr>\n",
       "  </thead>\n",
       "  <tbody>\n",
       "    <tr>\n",
       "      <td>0</td>\n",
       "      <td></td>\n",
       "      <td>a-fadimem</td>\n",
       "      <td>[A Fadimem hadi senle kaçalım, Beyce de pazarı...</td>\n",
       "    </tr>\n",
       "    <tr>\n",
       "      <td>1</td>\n",
       "      <td></td>\n",
       "      <td>acaba</td>\n",
       "      <td>[Bilmem ki unuttun mu , Dudakların adımı , Göz...</td>\n",
       "    </tr>\n",
       "    <tr>\n",
       "      <td>2</td>\n",
       "      <td></td>\n",
       "      <td>acemkurdi-pesrev</td>\n",
       "      <td>[Şarkı enstrümantal olduğu için şarkı sözü bul...</td>\n",
       "    </tr>\n",
       "    <tr>\n",
       "      <td>3</td>\n",
       "      <td></td>\n",
       "      <td>acilara-gucendim</td>\n",
       "      <td>[Bana derdi çektiren, Göz yaşlarımı döktüren, ...</td>\n",
       "    </tr>\n",
       "    <tr>\n",
       "      <td>4</td>\n",
       "      <td></td>\n",
       "      <td>acik-birak-pencereni</td>\n",
       "      <td>[Açık bırak pencereni, Örtme perdeyi bu gece, ...</td>\n",
       "    </tr>\n",
       "  </tbody>\n",
       "</table>\n",
       "</div>"
      ],
      "text/plain": [
       "  index                  name  \\\n",
       "0                   a-fadimem   \n",
       "1                       acaba   \n",
       "2            acemkurdi-pesrev   \n",
       "3            acilara-gucendim   \n",
       "4        acik-birak-pencereni   \n",
       "\n",
       "                                               lyric  \n",
       "0  [A Fadimem hadi senle kaçalım, Beyce de pazarı...  \n",
       "1  [Bilmem ki unuttun mu , Dudakların adımı , Göz...  \n",
       "2  [Şarkı enstrümantal olduğu için şarkı sözü bul...  \n",
       "3  [Bana derdi çektiren, Göz yaşlarımı döktüren, ...  \n",
       "4  [Açık bırak pencereni, Örtme perdeyi bu gece, ...  "
      ]
     },
     "execution_count": 12,
     "metadata": {},
     "output_type": "execute_result"
    }
   ],
   "source": [
    "data.head()"
   ]
  },
  {
   "cell_type": "code",
   "execution_count": 13,
   "metadata": {
    "ExecuteTime": {
     "end_time": "2020-06-20T12:40:54.106545Z",
     "start_time": "2020-06-20T12:40:54.101551Z"
    }
   },
   "outputs": [],
   "source": [
    "#data.to_csv(\"zeki.csv\",index=False,header=False)\n",
    "#data.to_csv(r'C:\\Users\\ASUS\\Desktop\\zeki.csv', index=False) \n"
   ]
  },
  {
   "cell_type": "code",
   "execution_count": 14,
   "metadata": {
    "ExecuteTime": {
     "end_time": "2020-06-20T12:40:54.115509Z",
     "start_time": "2020-06-20T12:40:54.108527Z"
    }
   },
   "outputs": [],
   "source": [
    "df=data.copy()"
   ]
  },
  {
   "cell_type": "code",
   "execution_count": 15,
   "metadata": {
    "ExecuteTime": {
     "end_time": "2020-06-20T12:40:54.128474Z",
     "start_time": "2020-06-20T12:40:54.118499Z"
    },
    "scrolled": true
   },
   "outputs": [
    {
     "data": {
      "text/html": [
       "<div>\n",
       "<style scoped>\n",
       "    .dataframe tbody tr th:only-of-type {\n",
       "        vertical-align: middle;\n",
       "    }\n",
       "\n",
       "    .dataframe tbody tr th {\n",
       "        vertical-align: top;\n",
       "    }\n",
       "\n",
       "    .dataframe thead th {\n",
       "        text-align: right;\n",
       "    }\n",
       "</style>\n",
       "<table border=\"1\" class=\"dataframe\">\n",
       "  <thead>\n",
       "    <tr style=\"text-align: right;\">\n",
       "      <th></th>\n",
       "      <th>index</th>\n",
       "      <th>name</th>\n",
       "      <th>lyric</th>\n",
       "    </tr>\n",
       "  </thead>\n",
       "  <tbody>\n",
       "    <tr>\n",
       "      <td>0</td>\n",
       "      <td></td>\n",
       "      <td>a-fadimem</td>\n",
       "      <td>[A Fadimem hadi senle kaçalım, Beyce de pazarı...</td>\n",
       "    </tr>\n",
       "    <tr>\n",
       "      <td>1</td>\n",
       "      <td></td>\n",
       "      <td>acaba</td>\n",
       "      <td>[Bilmem ki unuttun mu , Dudakların adımı , Göz...</td>\n",
       "    </tr>\n",
       "    <tr>\n",
       "      <td>2</td>\n",
       "      <td></td>\n",
       "      <td>acemkurdi-pesrev</td>\n",
       "      <td>[Şarkı enstrümantal olduğu için şarkı sözü bul...</td>\n",
       "    </tr>\n",
       "    <tr>\n",
       "      <td>3</td>\n",
       "      <td></td>\n",
       "      <td>acilara-gucendim</td>\n",
       "      <td>[Bana derdi çektiren, Göz yaşlarımı döktüren, ...</td>\n",
       "    </tr>\n",
       "    <tr>\n",
       "      <td>4</td>\n",
       "      <td></td>\n",
       "      <td>acik-birak-pencereni</td>\n",
       "      <td>[Açık bırak pencereni, Örtme perdeyi bu gece, ...</td>\n",
       "    </tr>\n",
       "  </tbody>\n",
       "</table>\n",
       "</div>"
      ],
      "text/plain": [
       "  index                  name  \\\n",
       "0                   a-fadimem   \n",
       "1                       acaba   \n",
       "2            acemkurdi-pesrev   \n",
       "3            acilara-gucendim   \n",
       "4        acik-birak-pencereni   \n",
       "\n",
       "                                               lyric  \n",
       "0  [A Fadimem hadi senle kaçalım, Beyce de pazarı...  \n",
       "1  [Bilmem ki unuttun mu , Dudakların adımı , Göz...  \n",
       "2  [Şarkı enstrümantal olduğu için şarkı sözü bul...  \n",
       "3  [Bana derdi çektiren, Göz yaşlarımı döktüren, ...  \n",
       "4  [Açık bırak pencereni, Örtme perdeyi bu gece, ...  "
      ]
     },
     "execution_count": 15,
     "metadata": {},
     "output_type": "execute_result"
    }
   ],
   "source": [
    "df.head()"
   ]
  },
  {
   "cell_type": "code",
   "execution_count": 16,
   "metadata": {
    "ExecuteTime": {
     "end_time": "2020-06-20T12:40:54.143470Z",
     "start_time": "2020-06-20T12:40:54.131464Z"
    }
   },
   "outputs": [],
   "source": [
    "df[\"lyric\"]=df[\"lyric\"].astype(str).str.lstrip(\"[\").str.rstrip(\"]\")"
   ]
  },
  {
   "cell_type": "code",
   "execution_count": 17,
   "metadata": {
    "ExecuteTime": {
     "end_time": "2020-06-20T12:40:54.156433Z",
     "start_time": "2020-06-20T12:40:54.145428Z"
    }
   },
   "outputs": [
    {
     "data": {
      "text/html": [
       "<div>\n",
       "<style scoped>\n",
       "    .dataframe tbody tr th:only-of-type {\n",
       "        vertical-align: middle;\n",
       "    }\n",
       "\n",
       "    .dataframe tbody tr th {\n",
       "        vertical-align: top;\n",
       "    }\n",
       "\n",
       "    .dataframe thead th {\n",
       "        text-align: right;\n",
       "    }\n",
       "</style>\n",
       "<table border=\"1\" class=\"dataframe\">\n",
       "  <thead>\n",
       "    <tr style=\"text-align: right;\">\n",
       "      <th></th>\n",
       "      <th>index</th>\n",
       "      <th>name</th>\n",
       "      <th>lyric</th>\n",
       "    </tr>\n",
       "  </thead>\n",
       "  <tbody>\n",
       "    <tr>\n",
       "      <td>0</td>\n",
       "      <td></td>\n",
       "      <td>a-fadimem</td>\n",
       "      <td>'A Fadimem hadi senle kaçalım', 'Beyce de paza...</td>\n",
       "    </tr>\n",
       "    <tr>\n",
       "      <td>1</td>\n",
       "      <td></td>\n",
       "      <td>acaba</td>\n",
       "      <td>'Bilmem ki unuttun mu ', 'Dudakların adımı ', ...</td>\n",
       "    </tr>\n",
       "    <tr>\n",
       "      <td>2</td>\n",
       "      <td></td>\n",
       "      <td>acemkurdi-pesrev</td>\n",
       "      <td>'Şarkı enstrümantal olduğu için şarkı sözü bul...</td>\n",
       "    </tr>\n",
       "    <tr>\n",
       "      <td>3</td>\n",
       "      <td></td>\n",
       "      <td>acilara-gucendim</td>\n",
       "      <td>'Bana derdi çektiren', 'Göz yaşlarımı döktüren...</td>\n",
       "    </tr>\n",
       "    <tr>\n",
       "      <td>4</td>\n",
       "      <td></td>\n",
       "      <td>acik-birak-pencereni</td>\n",
       "      <td>'Açık bırak pencereni', 'Örtme perdeyi bu gece...</td>\n",
       "    </tr>\n",
       "  </tbody>\n",
       "</table>\n",
       "</div>"
      ],
      "text/plain": [
       "  index                  name  \\\n",
       "0                   a-fadimem   \n",
       "1                       acaba   \n",
       "2            acemkurdi-pesrev   \n",
       "3            acilara-gucendim   \n",
       "4        acik-birak-pencereni   \n",
       "\n",
       "                                               lyric  \n",
       "0  'A Fadimem hadi senle kaçalım', 'Beyce de paza...  \n",
       "1  'Bilmem ki unuttun mu ', 'Dudakların adımı ', ...  \n",
       "2  'Şarkı enstrümantal olduğu için şarkı sözü bul...  \n",
       "3  'Bana derdi çektiren', 'Göz yaşlarımı döktüren...  \n",
       "4  'Açık bırak pencereni', 'Örtme perdeyi bu gece...  "
      ]
     },
     "execution_count": 17,
     "metadata": {},
     "output_type": "execute_result"
    }
   ],
   "source": [
    "df.head()"
   ]
  },
  {
   "cell_type": "code",
   "execution_count": 18,
   "metadata": {
    "ExecuteTime": {
     "end_time": "2020-06-20T12:40:54.176380Z",
     "start_time": "2020-06-20T12:40:54.157394Z"
    }
   },
   "outputs": [],
   "source": [
    "df['lyric'] = df['lyric'].apply(lambda x: \" \".join(x.lower() for x in x.split()))\n",
    "df['name'] = df['name'].apply(lambda x: \" \".join(x.lower() for x in x.split()))"
   ]
  },
  {
   "cell_type": "code",
   "execution_count": 19,
   "metadata": {
    "ExecuteTime": {
     "end_time": "2020-06-20T12:40:54.189311Z",
     "start_time": "2020-06-20T12:40:54.177341Z"
    }
   },
   "outputs": [
    {
     "data": {
      "text/html": [
       "<div>\n",
       "<style scoped>\n",
       "    .dataframe tbody tr th:only-of-type {\n",
       "        vertical-align: middle;\n",
       "    }\n",
       "\n",
       "    .dataframe tbody tr th {\n",
       "        vertical-align: top;\n",
       "    }\n",
       "\n",
       "    .dataframe thead th {\n",
       "        text-align: right;\n",
       "    }\n",
       "</style>\n",
       "<table border=\"1\" class=\"dataframe\">\n",
       "  <thead>\n",
       "    <tr style=\"text-align: right;\">\n",
       "      <th></th>\n",
       "      <th>index</th>\n",
       "      <th>name</th>\n",
       "      <th>lyric</th>\n",
       "    </tr>\n",
       "  </thead>\n",
       "  <tbody>\n",
       "    <tr>\n",
       "      <td>0</td>\n",
       "      <td></td>\n",
       "      <td>a-fadimem</td>\n",
       "      <td>'a fadimem hadi senle kaçalım', 'beyce de paza...</td>\n",
       "    </tr>\n",
       "    <tr>\n",
       "      <td>1</td>\n",
       "      <td></td>\n",
       "      <td>acaba</td>\n",
       "      <td>'bilmem ki unuttun mu ', 'dudakların adımı ', ...</td>\n",
       "    </tr>\n",
       "    <tr>\n",
       "      <td>2</td>\n",
       "      <td></td>\n",
       "      <td>acemkurdi-pesrev</td>\n",
       "      <td>'şarkı enstrümantal olduğu için şarkı sözü bul...</td>\n",
       "    </tr>\n",
       "    <tr>\n",
       "      <td>3</td>\n",
       "      <td></td>\n",
       "      <td>acilara-gucendim</td>\n",
       "      <td>'bana derdi çektiren', 'göz yaşlarımı döktüren...</td>\n",
       "    </tr>\n",
       "    <tr>\n",
       "      <td>4</td>\n",
       "      <td></td>\n",
       "      <td>acik-birak-pencereni</td>\n",
       "      <td>'açık bırak pencereni', 'örtme perdeyi bu gece...</td>\n",
       "    </tr>\n",
       "  </tbody>\n",
       "</table>\n",
       "</div>"
      ],
      "text/plain": [
       "  index                  name  \\\n",
       "0                   a-fadimem   \n",
       "1                       acaba   \n",
       "2            acemkurdi-pesrev   \n",
       "3            acilara-gucendim   \n",
       "4        acik-birak-pencereni   \n",
       "\n",
       "                                               lyric  \n",
       "0  'a fadimem hadi senle kaçalım', 'beyce de paza...  \n",
       "1  'bilmem ki unuttun mu ', 'dudakların adımı ', ...  \n",
       "2  'şarkı enstrümantal olduğu için şarkı sözü bul...  \n",
       "3  'bana derdi çektiren', 'göz yaşlarımı döktüren...  \n",
       "4  'açık bırak pencereni', 'örtme perdeyi bu gece...  "
      ]
     },
     "execution_count": 19,
     "metadata": {},
     "output_type": "execute_result"
    }
   ],
   "source": [
    "df.head()"
   ]
  },
  {
   "cell_type": "code",
   "execution_count": 20,
   "metadata": {
    "ExecuteTime": {
     "end_time": "2020-06-20T12:40:54.220159Z",
     "start_time": "2020-06-20T12:40:54.190309Z"
    }
   },
   "outputs": [],
   "source": [
    "df['lyric'] = df['lyric'].str.replace('[^\\w\\s]','')\n",
    "df['lyric'] = df['lyric'].str.replace('\\d','')\n",
    "df['name'] = df['name'].str.replace('\\d',' ')"
   ]
  },
  {
   "cell_type": "code",
   "execution_count": 21,
   "metadata": {
    "ExecuteTime": {
     "end_time": "2020-06-20T12:40:54.237105Z",
     "start_time": "2020-06-20T12:40:54.225138Z"
    }
   },
   "outputs": [
    {
     "data": {
      "text/html": [
       "<div>\n",
       "<style scoped>\n",
       "    .dataframe tbody tr th:only-of-type {\n",
       "        vertical-align: middle;\n",
       "    }\n",
       "\n",
       "    .dataframe tbody tr th {\n",
       "        vertical-align: top;\n",
       "    }\n",
       "\n",
       "    .dataframe thead th {\n",
       "        text-align: right;\n",
       "    }\n",
       "</style>\n",
       "<table border=\"1\" class=\"dataframe\">\n",
       "  <thead>\n",
       "    <tr style=\"text-align: right;\">\n",
       "      <th></th>\n",
       "      <th>index</th>\n",
       "      <th>name</th>\n",
       "      <th>lyric</th>\n",
       "    </tr>\n",
       "  </thead>\n",
       "  <tbody>\n",
       "    <tr>\n",
       "      <td>0</td>\n",
       "      <td></td>\n",
       "      <td>a-fadimem</td>\n",
       "      <td>a fadimem hadi senle kaçalım beyce de pazarınd...</td>\n",
       "    </tr>\n",
       "    <tr>\n",
       "      <td>1</td>\n",
       "      <td></td>\n",
       "      <td>acaba</td>\n",
       "      <td>bilmem ki unuttun mu  dudakların adımı  gözler...</td>\n",
       "    </tr>\n",
       "    <tr>\n",
       "      <td>2</td>\n",
       "      <td></td>\n",
       "      <td>acemkurdi-pesrev</td>\n",
       "      <td>şarkı enstrümantal olduğu için şarkı sözü bulu...</td>\n",
       "    </tr>\n",
       "    <tr>\n",
       "      <td>3</td>\n",
       "      <td></td>\n",
       "      <td>acilara-gucendim</td>\n",
       "      <td>bana derdi çektiren göz yaşlarımı döktüren hay...</td>\n",
       "    </tr>\n",
       "    <tr>\n",
       "      <td>4</td>\n",
       "      <td></td>\n",
       "      <td>acik-birak-pencereni</td>\n",
       "      <td>açık bırak pencereni örtme perdeyi bu gece san...</td>\n",
       "    </tr>\n",
       "  </tbody>\n",
       "</table>\n",
       "</div>"
      ],
      "text/plain": [
       "  index                  name  \\\n",
       "0                   a-fadimem   \n",
       "1                       acaba   \n",
       "2            acemkurdi-pesrev   \n",
       "3            acilara-gucendim   \n",
       "4        acik-birak-pencereni   \n",
       "\n",
       "                                               lyric  \n",
       "0  a fadimem hadi senle kaçalım beyce de pazarınd...  \n",
       "1  bilmem ki unuttun mu  dudakların adımı  gözler...  \n",
       "2  şarkı enstrümantal olduğu için şarkı sözü bulu...  \n",
       "3  bana derdi çektiren göz yaşlarımı döktüren hay...  \n",
       "4  açık bırak pencereni örtme perdeyi bu gece san...  "
      ]
     },
     "execution_count": 21,
     "metadata": {},
     "output_type": "execute_result"
    }
   ],
   "source": [
    "df.head()"
   ]
  },
  {
   "cell_type": "code",
   "execution_count": 22,
   "metadata": {
    "ExecuteTime": {
     "end_time": "2020-06-20T12:40:54.246084Z",
     "start_time": "2020-06-20T12:40:54.240099Z"
    }
   },
   "outputs": [
    {
     "data": {
      "text/plain": [
       "'şarkı enstrümantal olduğu için şarkı sözü bulunmamaktadır '"
      ]
     },
     "execution_count": 22,
     "metadata": {},
     "output_type": "execute_result"
    }
   ],
   "source": [
    "df[\"lyric\"][2]"
   ]
  },
  {
   "cell_type": "code",
   "execution_count": 23,
   "metadata": {
    "ExecuteTime": {
     "end_time": "2020-06-20T12:40:54.261066Z",
     "start_time": "2020-06-20T12:40:54.248077Z"
    }
   },
   "outputs": [
    {
     "data": {
      "text/html": [
       "<div>\n",
       "<style scoped>\n",
       "    .dataframe tbody tr th:only-of-type {\n",
       "        vertical-align: middle;\n",
       "    }\n",
       "\n",
       "    .dataframe tbody tr th {\n",
       "        vertical-align: top;\n",
       "    }\n",
       "\n",
       "    .dataframe thead th {\n",
       "        text-align: right;\n",
       "    }\n",
       "</style>\n",
       "<table border=\"1\" class=\"dataframe\">\n",
       "  <thead>\n",
       "    <tr style=\"text-align: right;\">\n",
       "      <th></th>\n",
       "      <th>index</th>\n",
       "      <th>name</th>\n",
       "      <th>lyric</th>\n",
       "    </tr>\n",
       "  </thead>\n",
       "  <tbody>\n",
       "    <tr>\n",
       "      <td>2</td>\n",
       "      <td></td>\n",
       "      <td>acemkurdi-pesrev</td>\n",
       "      <td>şarkı enstrümantal olduğu için şarkı sözü bulu...</td>\n",
       "    </tr>\n",
       "    <tr>\n",
       "      <td>252</td>\n",
       "      <td></td>\n",
       "      <td>hicaz-klarnet-taksimi</td>\n",
       "      <td>şarkı enstrümantal olduğu için şarkı sözü bulu...</td>\n",
       "    </tr>\n",
       "    <tr>\n",
       "      <td>253</td>\n",
       "      <td></td>\n",
       "      <td>hicaz-pesrevi</td>\n",
       "      <td>şarkı enstrümantal olduğu için şarkı sözü bulu...</td>\n",
       "    </tr>\n",
       "    <tr>\n",
       "      <td>261</td>\n",
       "      <td></td>\n",
       "      <td>huzzam-kanun-taksimi</td>\n",
       "      <td>şarkı enstrümantal olduğu için şarkı sözü bulu...</td>\n",
       "    </tr>\n",
       "    <tr>\n",
       "      <td>289</td>\n",
       "      <td></td>\n",
       "      <td>kanun-taksimi</td>\n",
       "      <td>şarkı enstrümantal olduğu için şarkı sözü bulu...</td>\n",
       "    </tr>\n",
       "    <tr>\n",
       "      <td>303</td>\n",
       "      <td></td>\n",
       "      <td>keman-taksimi</td>\n",
       "      <td>şarkı enstrümantal olduğu için şarkı sözü bulu...</td>\n",
       "    </tr>\n",
       "    <tr>\n",
       "      <td>311</td>\n",
       "      <td></td>\n",
       "      <td>klarnet-taksimi</td>\n",
       "      <td>şarkı enstrümantal olduğu için şarkı sözü bulu...</td>\n",
       "    </tr>\n",
       "    <tr>\n",
       "      <td>319</td>\n",
       "      <td></td>\n",
       "      <td>kurdili-hicazkar-saz-semaisi</td>\n",
       "      <td>şarkı enstrümantal olduğu için şarkı sözü bulu...</td>\n",
       "    </tr>\n",
       "    <tr>\n",
       "      <td>333</td>\n",
       "      <td></td>\n",
       "      <td>muhayyer-kurdi-pesrevi</td>\n",
       "      <td>şarkı enstrümantal olduğu için şarkı sözü bulu...</td>\n",
       "    </tr>\n",
       "    <tr>\n",
       "      <td>355</td>\n",
       "      <td></td>\n",
       "      <td>neva-pesrev</td>\n",
       "      <td>şarkı enstrümantal olduğu için şarkı sözü bulu...</td>\n",
       "    </tr>\n",
       "    <tr>\n",
       "      <td>361</td>\n",
       "      <td></td>\n",
       "      <td>nihavent-pesrev</td>\n",
       "      <td>şarkı enstrümantal olduğu için şarkı sözü bulu...</td>\n",
       "    </tr>\n",
       "    <tr>\n",
       "      <td>362</td>\n",
       "      <td></td>\n",
       "      <td>nihavent-ud-taksimi</td>\n",
       "      <td>şarkı enstrümantal olduğu için şarkı sözü bulu...</td>\n",
       "    </tr>\n",
       "    <tr>\n",
       "      <td>396</td>\n",
       "      <td></td>\n",
       "      <td>segah-saz-semaisi</td>\n",
       "      <td>şarkı enstrümantal olduğu için şarkı sözü bulu...</td>\n",
       "    </tr>\n",
       "    <tr>\n",
       "      <td>447</td>\n",
       "      <td></td>\n",
       "      <td>suznak-pesrev</td>\n",
       "      <td>şarkı enstrümantal olduğu için şarkı sözü bulu...</td>\n",
       "    </tr>\n",
       "    <tr>\n",
       "      <td>454</td>\n",
       "      <td></td>\n",
       "      <td>sedaraban-pesrev</td>\n",
       "      <td>şarkı enstrümantal olduğu için şarkı sözü bulu...</td>\n",
       "    </tr>\n",
       "    <tr>\n",
       "      <td>458</td>\n",
       "      <td></td>\n",
       "      <td>tambur-taksimi</td>\n",
       "      <td>şarkı enstrümantal olduğu için şarkı sözü bulu...</td>\n",
       "    </tr>\n",
       "    <tr>\n",
       "      <td>466</td>\n",
       "      <td></td>\n",
       "      <td>ud-taksimi</td>\n",
       "      <td>şarkı enstrümantal olduğu için şarkı sözü bulu...</td>\n",
       "    </tr>\n",
       "    <tr>\n",
       "      <td>472</td>\n",
       "      <td></td>\n",
       "      <td>usak-pesrevi</td>\n",
       "      <td>şarkı enstrümantal olduğu için şarkı sözü bulu...</td>\n",
       "    </tr>\n",
       "    <tr>\n",
       "      <td>500</td>\n",
       "      <td></td>\n",
       "      <td>yayli-tambur-taksimi</td>\n",
       "      <td>şarkı enstrümantal olduğu için şarkı sözü bulu...</td>\n",
       "    </tr>\n",
       "  </tbody>\n",
       "</table>\n",
       "</div>"
      ],
      "text/plain": [
       "    index                          name  \\\n",
       "2                      acemkurdi-pesrev   \n",
       "252               hicaz-klarnet-taksimi   \n",
       "253                       hicaz-pesrevi   \n",
       "261                huzzam-kanun-taksimi   \n",
       "289                       kanun-taksimi   \n",
       "303                       keman-taksimi   \n",
       "311                     klarnet-taksimi   \n",
       "319        kurdili-hicazkar-saz-semaisi   \n",
       "333              muhayyer-kurdi-pesrevi   \n",
       "355                         neva-pesrev   \n",
       "361                     nihavent-pesrev   \n",
       "362                 nihavent-ud-taksimi   \n",
       "396                   segah-saz-semaisi   \n",
       "447                       suznak-pesrev   \n",
       "454                    sedaraban-pesrev   \n",
       "458                      tambur-taksimi   \n",
       "466                          ud-taksimi   \n",
       "472                        usak-pesrevi   \n",
       "500                yayli-tambur-taksimi   \n",
       "\n",
       "                                                 lyric  \n",
       "2    şarkı enstrümantal olduğu için şarkı sözü bulu...  \n",
       "252  şarkı enstrümantal olduğu için şarkı sözü bulu...  \n",
       "253  şarkı enstrümantal olduğu için şarkı sözü bulu...  \n",
       "261  şarkı enstrümantal olduğu için şarkı sözü bulu...  \n",
       "289  şarkı enstrümantal olduğu için şarkı sözü bulu...  \n",
       "303  şarkı enstrümantal olduğu için şarkı sözü bulu...  \n",
       "311  şarkı enstrümantal olduğu için şarkı sözü bulu...  \n",
       "319  şarkı enstrümantal olduğu için şarkı sözü bulu...  \n",
       "333  şarkı enstrümantal olduğu için şarkı sözü bulu...  \n",
       "355  şarkı enstrümantal olduğu için şarkı sözü bulu...  \n",
       "361  şarkı enstrümantal olduğu için şarkı sözü bulu...  \n",
       "362  şarkı enstrümantal olduğu için şarkı sözü bulu...  \n",
       "396  şarkı enstrümantal olduğu için şarkı sözü bulu...  \n",
       "447  şarkı enstrümantal olduğu için şarkı sözü bulu...  \n",
       "454  şarkı enstrümantal olduğu için şarkı sözü bulu...  \n",
       "458  şarkı enstrümantal olduğu için şarkı sözü bulu...  \n",
       "466  şarkı enstrümantal olduğu için şarkı sözü bulu...  \n",
       "472  şarkı enstrümantal olduğu için şarkı sözü bulu...  \n",
       "500  şarkı enstrümantal olduğu için şarkı sözü bulu...  "
      ]
     },
     "execution_count": 23,
     "metadata": {},
     "output_type": "execute_result"
    }
   ],
   "source": [
    "df[df[\"lyric\"]==\"şarkı enstrümantal olduğu için şarkı sözü bulunmamaktadır \"]"
   ]
  },
  {
   "cell_type": "code",
   "execution_count": 24,
   "metadata": {
    "ExecuteTime": {
     "end_time": "2020-06-20T12:40:54.274034Z",
     "start_time": "2020-06-20T12:40:54.264033Z"
    }
   },
   "outputs": [],
   "source": [
    "df=df.drop(df[df[\"lyric\"]==\"şarkı enstrümantal olduğu için şarkı sözü bulunmamaktadır \"].index)"
   ]
  },
  {
   "cell_type": "code",
   "execution_count": 25,
   "metadata": {
    "ExecuteTime": {
     "end_time": "2020-06-20T12:40:54.290961Z",
     "start_time": "2020-06-20T12:40:54.276001Z"
    }
   },
   "outputs": [
    {
     "data": {
      "text/html": [
       "<div>\n",
       "<style scoped>\n",
       "    .dataframe tbody tr th:only-of-type {\n",
       "        vertical-align: middle;\n",
       "    }\n",
       "\n",
       "    .dataframe tbody tr th {\n",
       "        vertical-align: top;\n",
       "    }\n",
       "\n",
       "    .dataframe thead th {\n",
       "        text-align: right;\n",
       "    }\n",
       "</style>\n",
       "<table border=\"1\" class=\"dataframe\">\n",
       "  <thead>\n",
       "    <tr style=\"text-align: right;\">\n",
       "      <th></th>\n",
       "      <th>index</th>\n",
       "      <th>name</th>\n",
       "      <th>lyric</th>\n",
       "    </tr>\n",
       "  </thead>\n",
       "  <tbody>\n",
       "    <tr>\n",
       "      <td>0</td>\n",
       "      <td></td>\n",
       "      <td>a-fadimem</td>\n",
       "      <td>a fadimem hadi senle kaçalım beyce de pazarınd...</td>\n",
       "    </tr>\n",
       "    <tr>\n",
       "      <td>1</td>\n",
       "      <td></td>\n",
       "      <td>acaba</td>\n",
       "      <td>bilmem ki unuttun mu  dudakların adımı  gözler...</td>\n",
       "    </tr>\n",
       "    <tr>\n",
       "      <td>3</td>\n",
       "      <td></td>\n",
       "      <td>acilara-gucendim</td>\n",
       "      <td>bana derdi çektiren göz yaşlarımı döktüren hay...</td>\n",
       "    </tr>\n",
       "    <tr>\n",
       "      <td>4</td>\n",
       "      <td></td>\n",
       "      <td>acik-birak-pencereni</td>\n",
       "      <td>açık bırak pencereni örtme perdeyi bu gece san...</td>\n",
       "    </tr>\n",
       "    <tr>\n",
       "      <td>5</td>\n",
       "      <td></td>\n",
       "      <td>acilan-bir-gul-gibi</td>\n",
       "      <td>açılan bir gül gibi gir kalbe gönül gibi coşar...</td>\n",
       "    </tr>\n",
       "  </tbody>\n",
       "</table>\n",
       "</div>"
      ],
      "text/plain": [
       "  index                  name  \\\n",
       "0                   a-fadimem   \n",
       "1                       acaba   \n",
       "3            acilara-gucendim   \n",
       "4        acik-birak-pencereni   \n",
       "5         acilan-bir-gul-gibi   \n",
       "\n",
       "                                               lyric  \n",
       "0  a fadimem hadi senle kaçalım beyce de pazarınd...  \n",
       "1  bilmem ki unuttun mu  dudakların adımı  gözler...  \n",
       "3  bana derdi çektiren göz yaşlarımı döktüren hay...  \n",
       "4  açık bırak pencereni örtme perdeyi bu gece san...  \n",
       "5  açılan bir gül gibi gir kalbe gönül gibi coşar...  "
      ]
     },
     "execution_count": 25,
     "metadata": {},
     "output_type": "execute_result"
    }
   ],
   "source": [
    "df.head()"
   ]
  },
  {
   "cell_type": "code",
   "execution_count": 26,
   "metadata": {
    "ExecuteTime": {
     "end_time": "2020-06-20T12:40:54.932157Z",
     "start_time": "2020-06-20T12:40:54.292958Z"
    }
   },
   "outputs": [
    {
     "data": {
      "image/png": "[encoded data removed]",
      "text/plain": [
       "<Figure size 1080x432 with 1 Axes>"
      ]
     },
     "metadata": {
      "needs_background": "light"
     },
     "output_type": "display_data"
    }
   ],
   "source": [
    "plt.figure(figsize=(15,6))\n",
    "pd.Series(' '.join(df['lyric']).split()).value_counts().sort_values()[-50:].plot.bar(color=\"r\")\n",
    "plt.grid()"
   ]
  },
  {
   "cell_type": "code",
   "execution_count": 27,
   "metadata": {
    "ExecuteTime": {
     "end_time": "2020-06-20T12:40:54.941132Z",
     "start_time": "2020-06-20T12:40:54.935148Z"
    }
   },
   "outputs": [],
   "source": [
    "df[\"length\"]=df[\"lyric\"].str.len()"
   ]
  },
  {
   "cell_type": "code",
   "execution_count": 28,
   "metadata": {
    "ExecuteTime": {
     "end_time": "2020-06-20T12:40:54.956111Z",
     "start_time": "2020-06-20T12:40:54.944123Z"
    }
   },
   "outputs": [
    {
     "data": {
      "text/html": [
       "<div>\n",
       "<style scoped>\n",
       "    .dataframe tbody tr th:only-of-type {\n",
       "        vertical-align: middle;\n",
       "    }\n",
       "\n",
       "    .dataframe tbody tr th {\n",
       "        vertical-align: top;\n",
       "    }\n",
       "\n",
       "    .dataframe thead th {\n",
       "        text-align: right;\n",
       "    }\n",
       "</style>\n",
       "<table border=\"1\" class=\"dataframe\">\n",
       "  <thead>\n",
       "    <tr style=\"text-align: right;\">\n",
       "      <th></th>\n",
       "      <th>index</th>\n",
       "      <th>name</th>\n",
       "      <th>lyric</th>\n",
       "      <th>length</th>\n",
       "    </tr>\n",
       "  </thead>\n",
       "  <tbody>\n",
       "    <tr>\n",
       "      <td>0</td>\n",
       "      <td></td>\n",
       "      <td>a-fadimem</td>\n",
       "      <td>a fadimem hadi senle kaçalım beyce de pazarınd...</td>\n",
       "      <td>198</td>\n",
       "    </tr>\n",
       "    <tr>\n",
       "      <td>1</td>\n",
       "      <td></td>\n",
       "      <td>acaba</td>\n",
       "      <td>bilmem ki unuttun mu  dudakların adımı  gözler...</td>\n",
       "      <td>313</td>\n",
       "    </tr>\n",
       "    <tr>\n",
       "      <td>3</td>\n",
       "      <td></td>\n",
       "      <td>acilara-gucendim</td>\n",
       "      <td>bana derdi çektiren göz yaşlarımı döktüren hay...</td>\n",
       "      <td>270</td>\n",
       "    </tr>\n",
       "    <tr>\n",
       "      <td>4</td>\n",
       "      <td></td>\n",
       "      <td>acik-birak-pencereni</td>\n",
       "      <td>açık bırak pencereni örtme perdeyi bu gece san...</td>\n",
       "      <td>280</td>\n",
       "    </tr>\n",
       "    <tr>\n",
       "      <td>5</td>\n",
       "      <td></td>\n",
       "      <td>acilan-bir-gul-gibi</td>\n",
       "      <td>açılan bir gül gibi gir kalbe gönül gibi coşar...</td>\n",
       "      <td>245</td>\n",
       "    </tr>\n",
       "  </tbody>\n",
       "</table>\n",
       "</div>"
      ],
      "text/plain": [
       "  index                  name  \\\n",
       "0                   a-fadimem   \n",
       "1                       acaba   \n",
       "3            acilara-gucendim   \n",
       "4        acik-birak-pencereni   \n",
       "5         acilan-bir-gul-gibi   \n",
       "\n",
       "                                               lyric  length  \n",
       "0  a fadimem hadi senle kaçalım beyce de pazarınd...     198  \n",
       "1  bilmem ki unuttun mu  dudakların adımı  gözler...     313  \n",
       "3  bana derdi çektiren göz yaşlarımı döktüren hay...     270  \n",
       "4  açık bırak pencereni örtme perdeyi bu gece san...     280  \n",
       "5  açılan bir gül gibi gir kalbe gönül gibi coşar...     245  "
      ]
     },
     "execution_count": 28,
     "metadata": {},
     "output_type": "execute_result"
    }
   ],
   "source": [
    "df.head()"
   ]
  },
  {
   "cell_type": "code",
   "execution_count": 29,
   "metadata": {
    "ExecuteTime": {
     "end_time": "2020-06-20T12:40:54.978032Z",
     "start_time": "2020-06-20T12:40:54.958085Z"
    }
   },
   "outputs": [
    {
     "data": {
      "text/html": [
       "<div>\n",
       "<style scoped>\n",
       "    .dataframe tbody tr th:only-of-type {\n",
       "        vertical-align: middle;\n",
       "    }\n",
       "\n",
       "    .dataframe tbody tr th {\n",
       "        vertical-align: top;\n",
       "    }\n",
       "\n",
       "    .dataframe thead th {\n",
       "        text-align: right;\n",
       "    }\n",
       "</style>\n",
       "<table border=\"1\" class=\"dataframe\">\n",
       "  <thead>\n",
       "    <tr style=\"text-align: right;\">\n",
       "      <th></th>\n",
       "      <th>name</th>\n",
       "      <th>length</th>\n",
       "    </tr>\n",
       "  </thead>\n",
       "  <tbody>\n",
       "    <tr>\n",
       "      <td>325</td>\n",
       "      <td>masal</td>\n",
       "      <td>1519</td>\n",
       "    </tr>\n",
       "    <tr>\n",
       "      <td>280</td>\n",
       "      <td>kahir-mektubu</td>\n",
       "      <td>1512</td>\n",
       "    </tr>\n",
       "    <tr>\n",
       "      <td>473</td>\n",
       "      <td>uzun-yillar-bekledim-kakikat-oldu-ruyam</td>\n",
       "      <td>1512</td>\n",
       "    </tr>\n",
       "    <tr>\n",
       "      <td>95</td>\n",
       "      <td>bir-ilkbahar-sabahi</td>\n",
       "      <td>788</td>\n",
       "    </tr>\n",
       "    <tr>\n",
       "      <td>81</td>\n",
       "      <td>beni-sevmeni-istiyorum</td>\n",
       "      <td>613</td>\n",
       "    </tr>\n",
       "    <tr>\n",
       "      <td>432</td>\n",
       "      <td>sirilsiklam-seviyorum</td>\n",
       "      <td>607</td>\n",
       "    </tr>\n",
       "    <tr>\n",
       "      <td>223</td>\n",
       "      <td>gul-yuzlulerin-sevkine-gel</td>\n",
       "      <td>603</td>\n",
       "    </tr>\n",
       "    <tr>\n",
       "      <td>134</td>\n",
       "      <td>cigan-cocuklari</td>\n",
       "      <td>597</td>\n",
       "    </tr>\n",
       "    <tr>\n",
       "      <td>493</td>\n",
       "      <td>yanimda-sen-olmayinca</td>\n",
       "      <td>560</td>\n",
       "    </tr>\n",
       "    <tr>\n",
       "      <td>191</td>\n",
       "      <td>gel-neredeysen</td>\n",
       "      <td>557</td>\n",
       "    </tr>\n",
       "  </tbody>\n",
       "</table>\n",
       "</div>"
      ],
      "text/plain": [
       "                                        name  length\n",
       "325                                    masal    1519\n",
       "280                            kahir-mektubu    1512\n",
       "473  uzun-yillar-bekledim-kakikat-oldu-ruyam    1512\n",
       "95                       bir-ilkbahar-sabahi     788\n",
       "81                    beni-sevmeni-istiyorum     613\n",
       "432                    sirilsiklam-seviyorum     607\n",
       "223               gul-yuzlulerin-sevkine-gel     603\n",
       "134                          cigan-cocuklari     597\n",
       "493                    yanimda-sen-olmayinca     560\n",
       "191                           gel-neredeysen     557"
      ]
     },
     "execution_count": 29,
     "metadata": {},
     "output_type": "execute_result"
    }
   ],
   "source": [
    "df[[\"name\",\"length\"]].sort_values(by=\"length\").nlargest(columns=[\"length\"],n=10)"
   ]
  },
  {
   "cell_type": "code",
   "execution_count": 30,
   "metadata": {
    "ExecuteTime": {
     "end_time": "2020-06-20T12:40:55.443869Z",
     "start_time": "2020-06-20T12:40:54.981024Z"
    }
   },
   "outputs": [
    {
     "data": {
      "image/png": "[encoded data removed]",
      "text/plain": [
       "<Figure size 720x720 with 1 Axes>"
      ]
     },
     "metadata": {
      "needs_background": "light"
     },
     "output_type": "display_data"
    }
   ],
   "source": [
    "wordcloud = WordCloud(max_font_size = 50,\n",
    "                     max_words = 100, \n",
    "                     background_color = \"white\").generate(df[\"lyric\"][13]) #ah bu şarkıların gözü kör olsun\n",
    "plt.figure(figsize=(10,10))\n",
    "plt.imshow(wordcloud, interpolation = \"bilinear\")\n",
    "plt.axis(\"off\")\n",
    "plt.show()"
   ]
  },
  {
   "cell_type": "code",
   "execution_count": null,
   "metadata": {},
   "outputs": [],
   "source": []
  }
 ],
 "metadata": {
  "kernelspec": {
   "display_name": "Python 3",
   "language": "python",
   "name": "python3"
  },
  "language_info": {
   "codemirror_mode": {
    "name": "ipython",
    "version": 3
   },
   "file_extension": ".py",
   "mimetype": "text/x-python",
   "name": "python",
   "nbconvert_exporter": "python",
   "pygments_lexer": "ipython3",
   "version": "3.7.7"
  },
  "toc": {
   "base_numbering": 1,
   "nav_menu": {},
   "number_sections": true,
   "sideBar": true,
   "skip_h1_title": false,
   "title_cell": "Table of Contents",
   "title_sidebar": "Contents",
   "toc_cell": false,
   "toc_position": {},
   "toc_section_display": true,
   "toc_window_display": false
  }
 },
 "nbformat": 4,
 "nbformat_minor": 2
}
